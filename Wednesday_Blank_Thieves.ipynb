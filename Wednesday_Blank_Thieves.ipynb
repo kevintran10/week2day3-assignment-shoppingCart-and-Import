{
 "cells": [
  {
   "cell_type": "markdown",
   "metadata": {},
   "source": [
    "# Data Collections 2 (Dictionaries, Sets) and Importing Modules"
   ]
  },
  {
   "cell_type": "markdown",
   "metadata": {},
   "source": [
    "## Tasks Today:\n",
    "\n",
    "1) Dictionary <br>\n",
    " &nbsp;&nbsp;&nbsp;&nbsp; a) Declaring (key, value) <br>\n",
    " &nbsp;&nbsp;&nbsp;&nbsp; b) Accessing Values <br>\n",
    " &nbsp;&nbsp;&nbsp;&nbsp; ------ Exercise #1 - Print the eye color of each person in a double nested dict <br>\n",
    " &nbsp;&nbsp;&nbsp;&nbsp; c) Adding New Pairs <br>\n",
    " &nbsp;&nbsp;&nbsp;&nbsp; d) Modifying Values <br>\n",
    " &nbsp;&nbsp;&nbsp;&nbsp; e) Removing Key, Value Pairs <br>\n",
    " &nbsp;&nbsp;&nbsp;&nbsp; f) Looping a Dictionary <br>\n",
    " &nbsp;&nbsp;&nbsp;&nbsp; g) Looping Only Keys <br>\n",
    " &nbsp;&nbsp;&nbsp;&nbsp; h) Looping Only Values <br>\n",
    " &nbsp;&nbsp;&nbsp;&nbsp; ------ Exercise #2 - Create a Function that Prints All Key Value Pairs within a print .format()  <br>\n",
    " &nbsp;&nbsp;&nbsp;&nbsp; i) sorted() <br>\n",
    " &nbsp;&nbsp;&nbsp;&nbsp; j) Lists with Dictionaries <br>\n",
    " &nbsp;&nbsp;&nbsp;&nbsp; k) Dictionaries with Lists <br>\n",
    " &nbsp;&nbsp;&nbsp;&nbsp; l) Dictionaries with Dictionaries <br>\n",
    " &nbsp;&nbsp;&nbsp;&nbsp; ------ Exercise #3 - Write a Function that asks someone's name and address, and then stores that into a dictionary, which prints all names and addresses after they're done putting information in...  <br>\n",
    "2) Dictionaries vs. Lists (over time)<br>\n",
    "3) Set <br>\n",
    " &nbsp;&nbsp;&nbsp;&nbsp; a) Declaring <br>\n",
    " &nbsp;&nbsp;&nbsp;&nbsp; b) .add() <br>\n",
    " &nbsp;&nbsp;&nbsp;&nbsp; c) .remove() <br>\n",
    " &nbsp;&nbsp;&nbsp;&nbsp; d) .union() <br>\n",
    " &nbsp;&nbsp;&nbsp;&nbsp; e) .intersection() <br>\n",
    " &nbsp;&nbsp;&nbsp;&nbsp; f) .difference() <br>\n",
    " &nbsp;&nbsp;&nbsp;&nbsp; g) Frozen Set <br>\n",
    "4) Modules <br>\n",
    " &nbsp;&nbsp;&nbsp;&nbsp; a) Importing Entire Modules <br>\n",
    " &nbsp;&nbsp;&nbsp;&nbsp; b) Importing Methods Only <br>\n",
    " &nbsp;&nbsp;&nbsp;&nbsp; c) Using the 'as' Keyword <br>\n",
    " &nbsp;&nbsp;&nbsp;&nbsp; d) Creating a Module <br>\n",
    "5) Exercises <br>\n",
    " &nbsp;&nbsp;&nbsp;&nbsp; a) Build a Shopping Cart <br>\n",
    " &nbsp;&nbsp;&nbsp;&nbsp; b) Create Your Own Module <br>"
   ]
  },
  {
   "cell_type": "markdown",
   "metadata": {},
   "source": [
    "## Dictionary <br>\n",
    "<p>A collection of data with 'key:value' pairs. Dictionaries are ordered as of Python 3.6</p>"
   ]
  },
  {
   "cell_type": "markdown",
   "metadata": {},
   "source": [
    "##### Declaring (key, value)"
   ]
  },
  {
   "cell_type": "code",
   "execution_count": 4,
   "metadata": {},
   "outputs": [
    {
     "name": "stdout",
     "output_type": "stream",
     "text": [
      "Seahawks\n"
     ]
    }
   ],
   "source": [
    "my_dict = {}      #denoted with {}\n",
    "\n",
    "nfl_teams = {\n",
    "    'Baltimore': 'Ravens',\n",
    "    'Seattle': 'Seahawks'\n",
    "}\n",
    "\n",
    "print(nfl_teams['Seattle'])"
   ]
  },
  {
   "cell_type": "markdown",
   "metadata": {},
   "source": [
    "##### Accessing Values"
   ]
  },
  {
   "cell_type": "code",
   "execution_count": null,
   "metadata": {},
   "outputs": [],
   "source": []
  },
  {
   "cell_type": "markdown",
   "metadata": {},
   "source": [
    "## In-Class Exercise #1 - Print a formatted statement from the dictionary below <br>\n",
    "<p>The output should be '2018 Chevrolet Silverado'</p>"
   ]
  },
  {
   "cell_type": "code",
   "execution_count": 20,
   "metadata": {},
   "outputs": [
    {
     "ename": "SyntaxError",
     "evalue": "Missing parentheses in call to 'print'. Did you mean print(...)? (2840087446.py, line 11)",
     "output_type": "error",
     "traceback": [
      "\u001b[1;36m  Cell \u001b[1;32mIn[20], line 11\u001b[1;36m\u001b[0m\n\u001b[1;33m    print f\"{truck['year'], {truck['make']}, {truck['model']}}\"\u001b[0m\n\u001b[1;37m    ^\u001b[0m\n\u001b[1;31mSyntaxError\u001b[0m\u001b[1;31m:\u001b[0m Missing parentheses in call to 'print'. Did you mean print(...)?\n"
     ]
    }
   ],
   "source": [
    "# use the dict below\n",
    "truck = {\n",
    "    'year': 2018,\n",
    "    'make': 'Chevrolet',\n",
    "    'model': 'Silverado'\n",
    "}\n",
    "\n",
    "print(truck['year'], truck['make'], truck['model'])\n",
    "\n",
    "\n",
    "print(f\"{truck['year'], {truck['make']}, {truck['model']}}\")"
   ]
  },
  {
   "cell_type": "markdown",
   "metadata": {},
   "source": [
    "##### Adding New Pairs"
   ]
  },
  {
   "cell_type": "code",
   "execution_count": 25,
   "metadata": {},
   "outputs": [
    {
     "name": "stdout",
     "output_type": "stream",
     "text": [
      "{'Baltimore': 'Ravens', 'Seattle': 'Seahawks', 'NO': 'Saints', 'Kevin': 'Tran'}\n"
     ]
    }
   ],
   "source": [
    "nfl_teams = {\n",
    "    'Baltimore': 'Ravens',\n",
    "    'Seattle': 'Seahawks'\n",
    "}\n",
    "\n",
    "nfl_teams['NO'] = 'Saints'\n",
    "nfl_teams['Kevin'] = 'Tran'\n",
    "# adding new KEYS and Values\n",
    "print(nfl_teams)"
   ]
  },
  {
   "cell_type": "markdown",
   "metadata": {},
   "source": [
    "##### Modifying Values"
   ]
  },
  {
   "cell_type": "code",
   "execution_count": 24,
   "metadata": {},
   "outputs": [
    {
     "name": "stdout",
     "output_type": "stream",
     "text": [
      "{'Baltimore': 'Ravens', 'Seattle': 'Seagulls', 'NO': 'Saints'}\n"
     ]
    }
   ],
   "source": [
    "nfl_teams['Seattle'] = 'Seagulls'\n",
    "# changing an EXISTING KEY with a NEW value\n",
    "print(nfl_teams)"
   ]
  },
  {
   "cell_type": "markdown",
   "metadata": {},
   "source": [
    "##### Removing Key, Value Pairs"
   ]
  },
  {
   "cell_type": "code",
   "execution_count": 28,
   "metadata": {},
   "outputs": [
    {
     "name": "stdout",
     "output_type": "stream",
     "text": [
      "{'NO': 'Saints', 'Kevin': 'Tran'}\n"
     ]
    }
   ],
   "source": [
    "del nfl_teams['Seattle'] \n",
    "print(nfl_teams)"
   ]
  },
  {
   "cell_type": "markdown",
   "metadata": {},
   "source": [
    "##### Looping a Dictionary"
   ]
  },
  {
   "cell_type": "code",
   "execution_count": 29,
   "metadata": {},
   "outputs": [
    {
     "name": "stdout",
     "output_type": "stream",
     "text": [
      "NO Saints\n",
      "Kevin Tran\n"
     ]
    }
   ],
   "source": [
    "# .items()\n",
    "for key,value in nfl_teams.items():        # key = k, value = v     for k,v in nfl_teams.items():\n",
    "    print(key, value)\n"
   ]
  },
  {
   "cell_type": "markdown",
   "metadata": {},
   "source": [
    "##### Looping Only Keys"
   ]
  },
  {
   "cell_type": "code",
   "execution_count": 32,
   "metadata": {},
   "outputs": [
    {
     "name": "stdout",
     "output_type": "stream",
     "text": [
      "NO\n",
      "Kevin\n"
     ]
    }
   ],
   "source": [
    "# .keys()\n",
    "for key in nfl_teams.keys():\n",
    "    print(key)\n"
   ]
  },
  {
   "cell_type": "markdown",
   "metadata": {},
   "source": [
    "##### Looping Only Values"
   ]
  },
  {
   "cell_type": "code",
   "execution_count": null,
   "metadata": {},
   "outputs": [],
   "source": [
    "# .values()\n",
    "\n"
   ]
  },
  {
   "cell_type": "markdown",
   "metadata": {},
   "source": [
    "## In-Class Exercise #2 - Create a Function that Prints All Key Value Pairs within a print .format() <br>\n",
    "<p><b>Output should be:</b><br>\n",
    "Max has blue eyes<br>\n",
    "Lilly has brown eyes<br>\n",
    "Barney has blue eyes<br>\n",
    "etc.\n",
    "</p>"
   ]
  },
  {
   "cell_type": "code",
   "execution_count": 39,
   "metadata": {},
   "outputs": [
    {
     "name": "stdout",
     "output_type": "stream",
     "text": [
      "Max has blue eyes\n",
      "Lilly has brown eyes\n",
      "Barney has blue eyes\n",
      "Larney has brown eyes\n",
      "Ted has purple eyes\n"
     ]
    }
   ],
   "source": [
    "# use the dict below\n",
    "\n",
    "people = {\n",
    "    'Max': 'blue',\n",
    "    'Lilly': 'brown',\n",
    "    'Barney': 'blue',\n",
    "    'Larney': 'brown',\n",
    "    'Ted': 'purple'\n",
    "}\n",
    "\n",
    "# use .items() since we need both the KEY and VALUE\n",
    "\n",
    "for key,value in people.items():\n",
    "    print(f\"{key} has {value} eyes\")\n"
   ]
  },
  {
   "cell_type": "markdown",
   "metadata": {},
   "source": [
    "##### sorted()"
   ]
  },
  {
   "cell_type": "code",
   "execution_count": 42,
   "metadata": {},
   "outputs": [
    {
     "name": "stdout",
     "output_type": "stream",
     "text": [
      "{'NO': 'Saints', 'Kevin': 'Tran'}\n"
     ]
    }
   ],
   "source": [
    "# sorts variables in order\n",
    "# sorted(dict.values()) or dict.keys() or dict.items()\n",
    "sorted(nfl_teams.values())        #sorted makes it into a list and only takes the KEYS and not Values   #aka OUT OF PLACE ALGORITHM\n",
    "print(nfl_teams)"
   ]
  },
  {
   "cell_type": "markdown",
   "metadata": {},
   "source": [
    "##### List with Dictionaries"
   ]
  },
  {
   "cell_type": "code",
   "execution_count": 48,
   "metadata": {},
   "outputs": [
    {
     "name": "stdout",
     "output_type": "stream",
     "text": [
      "Lloyd\n",
      "darius\n",
      "r\n"
     ]
    }
   ],
   "source": [
    "students = ['Daniel', 'Lloyd', 'Kevin', {'random guy': 'darius', 'random girl' : 'sarah'}]\n",
    "\n",
    "print(students[1])\n",
    "print(students[3]['random guy'])\n",
    "print(students[3]['random girl'][2])     # the 'r' in 'sarah'"
   ]
  },
  {
   "cell_type": "markdown",
   "metadata": {},
   "source": [
    "##### Dictionaries with Lists"
   ]
  },
  {
   "cell_type": "code",
   "execution_count": 56,
   "metadata": {},
   "outputs": [
    {
     "name": "stdout",
     "output_type": "stream",
     "text": [
      "['Lebron James', 'Kobe Bryant']\n",
      "Lebron James\n",
      "Kobe Bryant\n",
      "['What will be printed?']\n",
      "What will be printed?\n"
     ]
    }
   ],
   "source": [
    "# be careful when using numbers as keys in dictionaries, don't confuse them with indexes\n",
    "nba_teams = {\n",
    "    'Los Angeles': ['Lebron James', 'Kobe Bryant'],\n",
    "    'Phoenix': ['Kevin Durant', 'Devin Booker'],\n",
    "    2: ['What will be printed?']\n",
    "}\n",
    "\n",
    "print(nba_teams['Los Angeles'])\n",
    "\n",
    "\n",
    "# to loop over\n",
    "for name in nba_teams['Los Angeles']:\n",
    "    print(name)\n",
    "\n",
    "\n",
    "print(nba_teams[2])\n",
    "print(nba_teams[2][0])"
   ]
  },
  {
   "cell_type": "markdown",
   "metadata": {},
   "source": [
    "##### Dictionaries with Dictionaries"
   ]
  },
  {
   "cell_type": "code",
   "execution_count": 61,
   "metadata": {},
   "outputs": [
    {
     "name": "stdout",
     "output_type": "stream",
     "text": [
      "8.99\n"
     ]
    }
   ],
   "source": [
    "# to get values, must traverse through keys\n",
    "katinas_tacos = {\n",
    "    'tacos': {\n",
    "        'supreme': 5.99,\n",
    "        'beefy 6-layer': 8.99,\n",
    "        'katina crunch': 9.99\n",
    "    }\n",
    "}\n",
    "\n",
    "print(katinas_tacos['tacos']['beefy 6-layer']) \n",
    "\n",
    "# when you traverse make sure to [] into the keys!!!!!"
   ]
  },
  {
   "cell_type": "markdown",
   "metadata": {},
   "source": [
    "## Dictionaries vs. Lists (over time) Example of RUNTIME\n",
    "### When inputting values in a Dictionary vs List"
   ]
  },
  {
   "cell_type": "code",
   "execution_count": 63,
   "metadata": {},
   "outputs": [],
   "source": [
    "import time\n",
    "\n",
    "\n",
    "# generate fake dictionary\n",
    "d = {}\n",
    "\n",
    "for i in range(50000000):\n",
    "    d[i] = 'value'\n",
    "    \n",
    "\n",
    "# generate fake list\n",
    "big_list = [x for x in range(50000000)]"
   ]
  },
  {
   "cell_type": "code",
   "execution_count": 65,
   "metadata": {},
   "outputs": [
    {
     "name": "stdout",
     "output_type": "stream",
     "text": [
      "Elapsed time for list: 0.3880765438079834\n",
      "Elapsed time for dictionary: 0.0\n"
     ]
    }
   ],
   "source": [
    "# tracking time for list\n",
    "start_time = time.time()\n",
    "\n",
    "if 49999999 in big_list:\n",
    "    pass\n",
    "end_time = time.time() - start_time\n",
    "\n",
    "print('Elapsed time for list: {}'.format(end_time))\n",
    "\n",
    "\n",
    "# tracking time for dictionary\n",
    "start_time = time.time()\n",
    "\n",
    "if 49999999 in d:\n",
    "    pass\n",
    "\n",
    "end_time = time.time() - start_time\n",
    "\n",
    "print('Elapsed time for dictionary: {}'.format(end_time))"
   ]
  },
  {
   "cell_type": "markdown",
   "metadata": {},
   "source": [
    "## Exercise #3 - Write a Function that asks someone's name and address, and then stores that into a dictionary, and continues to do so until they choose to 'quit'. Once they quit, the program should print all names and addresses. <br>\n",
    "<p>\n",
    "<b>Proper steps:</b><br>\n",
    "step 1: write a function that takes in information and stores it in a dictionary<br>\n",
    "step 2: define an empty dictionary to work with<br>\n",
    "step 3: create our loop, which asks the user for information until they quit<br>\n",
    "step 4: ask for the information, and store it into variables<br>\n",
    "step 5: check if the user types quit<br>\n",
    "step 5a: print out all information<br>\n",
    "step 5b: break out of the loop<br>\n",
    "step 6: if they didn't quit, add the information to the dictionary<br>\n",
    "step 7: invoke the function by calling it\n",
    "</p>"
   ]
  },
  {
   "cell_type": "code",
   "execution_count": 85,
   "metadata": {},
   "outputs": [
    {
     "ename": "KeyError",
     "evalue": "'name2'",
     "output_type": "error",
     "traceback": [
      "\u001b[1;31m---------------------------------------------------------------------------\u001b[0m",
      "\u001b[1;31mKeyError\u001b[0m                                  Traceback (most recent call last)",
      "\u001b[1;32mc:\\Users\\ktran\\Desktop\\CodingTemple\\Code\\Thieves_133\\Week2\\Day3\\Wednesday_Blank_Thieves.ipynb Cell 36\u001b[0m line \u001b[0;36m1\n\u001b[0;32m      <a href='vscode-notebook-cell:/c%3A/Users/ktran/Desktop/CodingTemple/Code/Thieves_133/Week2/Day3/Wednesday_Blank_Thieves.ipynb#X50sZmlsZQ%3D%3D?line=7'>8</a>\u001b[0m         \u001b[39minput\u001b[39m(\u001b[39m'\u001b[39m\u001b[39mWhat is your address\u001b[39m\u001b[39m'\u001b[39m)\n\u001b[0;32m      <a href='vscode-notebook-cell:/c%3A/Users/ktran/Desktop/CodingTemple/Code/Thieves_133/Week2/Day3/Wednesday_Blank_Thieves.ipynb#X50sZmlsZQ%3D%3D?line=8'>9</a>\u001b[0m         address_book[\u001b[39m'\u001b[39m\u001b[39mname2\u001b[39m\u001b[39m'\u001b[39m]\n\u001b[1;32m---> <a href='vscode-notebook-cell:/c%3A/Users/ktran/Desktop/CodingTemple/Code/Thieves_133/Week2/Day3/Wednesday_Blank_Thieves.ipynb#X50sZmlsZQ%3D%3D?line=10'>11</a>\u001b[0m question_name_address(name)\n\u001b[0;32m     <a href='vscode-notebook-cell:/c%3A/Users/ktran/Desktop/CodingTemple/Code/Thieves_133/Week2/Day3/Wednesday_Blank_Thieves.ipynb#X50sZmlsZQ%3D%3D?line=12'>13</a>\u001b[0m     \u001b[39m#  add_name = input('What is your name? ')    \u001b[39;00m\n\u001b[0;32m     <a href='vscode-notebook-cell:/c%3A/Users/ktran/Desktop/CodingTemple/Code/Thieves_133/Week2/Day3/Wednesday_Blank_Thieves.ipynb#X50sZmlsZQ%3D%3D?line=13'>14</a>\u001b[0m     \u001b[39m# add_address =input('What is your address? ')\u001b[39;00m\n",
      "\u001b[1;32mc:\\Users\\ktran\\Desktop\\CodingTemple\\Code\\Thieves_133\\Week2\\Day3\\Wednesday_Blank_Thieves.ipynb Cell 36\u001b[0m line \u001b[0;36m9\n\u001b[0;32m      <a href='vscode-notebook-cell:/c%3A/Users/ktran/Desktop/CodingTemple/Code/Thieves_133/Week2/Day3/Wednesday_Blank_Thieves.ipynb#X50sZmlsZQ%3D%3D?line=6'>7</a>\u001b[0m \u001b[39mfor\u001b[39;00m name2 \u001b[39min\u001b[39;00m address_book:\n\u001b[0;32m      <a href='vscode-notebook-cell:/c%3A/Users/ktran/Desktop/CodingTemple/Code/Thieves_133/Week2/Day3/Wednesday_Blank_Thieves.ipynb#X50sZmlsZQ%3D%3D?line=7'>8</a>\u001b[0m     \u001b[39minput\u001b[39m(\u001b[39m'\u001b[39m\u001b[39mWhat is your address\u001b[39m\u001b[39m'\u001b[39m)\n\u001b[1;32m----> <a href='vscode-notebook-cell:/c%3A/Users/ktran/Desktop/CodingTemple/Code/Thieves_133/Week2/Day3/Wednesday_Blank_Thieves.ipynb#X50sZmlsZQ%3D%3D?line=8'>9</a>\u001b[0m     address_book[\u001b[39m'\u001b[39;49m\u001b[39mname2\u001b[39;49m\u001b[39m'\u001b[39;49m]\n",
      "\u001b[1;31mKeyError\u001b[0m: 'name2'"
     ]
    }
   ],
   "source": [
    "# def question_name_address(word):\n",
    "\n",
    "#     address_book = {}\n",
    "#     for name in address_book:\n",
    "#         input('What is your name?'),\n",
    "#         address_book['name']\n",
    "#     for name2 in address_book:\n",
    "#         input('What is your address')\n",
    "#         address_book['name2']\n",
    "       \n",
    "# question_name_address(name)\n",
    "\n",
    "#     #  add_name = input('What is your name? ')    \n",
    "#     # add_address =input('What is your address? ')\n",
    "\n",
    "# Aakash's example  USE THIS TO HELP WITH HOMEWORK!!!\n",
    "\n",
    "def names_addresses():\n",
    "    store = {}\n",
    "    while True:\n",
    "        name = input(\"Enter a name (Quit to exit): \").lower()\n",
    "        if name == 'quit':\n",
    "            break\n",
    "        address = input(f\"Enter the address for {name}: \")\n",
    "        store[name] = address\n",
    "    print (store)\n",
    "names_addresses()\n",
    "   "
   ]
  },
  {
   "cell_type": "markdown",
   "metadata": {},
   "source": [
    "## Set <br>\n",
    "<p>A Set is an unordered collection data type that is iterable (loop), mutable, and has no duplicate elements.<br>Major advantage is that it is highly optimized in checking if something is in the set, as opposed to checking if something is in a list.</p>"
   ]
  },
  {
   "cell_type": "markdown",
   "metadata": {},
   "source": [
    "##### Declaring"
   ]
  },
  {
   "cell_type": "code",
   "execution_count": 87,
   "metadata": {},
   "outputs": [
    {
     "name": "stdout",
     "output_type": "stream",
     "text": [
      "<class 'set'>\n"
     ]
    }
   ],
   "source": [
    "# set() or {}\n",
    "my_set = {1,2,3,4,5}\n",
    "my_set = set()    # Christian preferred way\n",
    "\n",
    "print(type(my_set))"
   ]
  },
  {
   "cell_type": "markdown",
   "metadata": {},
   "source": [
    "##### .add()"
   ]
  },
  {
   "cell_type": "code",
   "execution_count": 88,
   "metadata": {},
   "outputs": [
    {
     "name": "stdout",
     "output_type": "stream",
     "text": [
      "{1, 2, 3, 4, 5, 6}\n"
     ]
    }
   ],
   "source": [
    "# set.add()\n",
    "my_set.add(6)\n",
    "print(my_set)"
   ]
  },
  {
   "cell_type": "markdown",
   "metadata": {},
   "source": [
    "##### .remove()"
   ]
  },
  {
   "cell_type": "code",
   "execution_count": 89,
   "metadata": {},
   "outputs": [
    {
     "name": "stdout",
     "output_type": "stream",
     "text": [
      "{2, 3, 4, 5, 6}\n"
     ]
    }
   ],
   "source": [
    "# removes by value\n",
    "# set.remove()\n",
    "# nums.remove(56)\n",
    "my_set.remove(1)\n",
    "print(my_set)\n"
   ]
  },
  {
   "cell_type": "markdown",
   "metadata": {},
   "source": [
    "##### .union() "
   ]
  },
  {
   "cell_type": "code",
   "execution_count": 93,
   "metadata": {},
   "outputs": [
    {
     "name": "stdout",
     "output_type": "stream",
     "text": [
      "{2, 3, 4, 5, 6}\n"
     ]
    }
   ],
   "source": [
    "# Returns a union of two sets, can also use '|' or set.union(set)\n",
    "# joins all numbers, gets rid of duplicates\n",
    "my_set = {6,2,3,4}\n",
    "my_set2 = {3,4,5,6,}\n",
    "\n",
    "# two-ways to write union.     .union or |\n",
    "unified_set = my_set.union(my_set2)\n",
    "unified_set = my_set | my_set2\n",
    "\n",
    "print(unified_set)   # NOTICE THERE ARE NO DUPLICATES!"
   ]
  },
  {
   "cell_type": "markdown",
   "metadata": {},
   "source": [
    "##### .intersection()"
   ]
  },
  {
   "cell_type": "code",
   "execution_count": 95,
   "metadata": {},
   "outputs": [
    {
     "name": "stdout",
     "output_type": "stream",
     "text": [
      "{3, 4, 6}\n"
     ]
    }
   ],
   "source": [
    "# Returns an intersection of two sets, can also use '&'\n",
    "# only takes similar elements from both sets\n",
    "my_set = {6,2,3,4}\n",
    "my_set2 = {3,4,5,6}\n",
    "\n",
    "intersected_set = my_set.intersection(my_set2)\n",
    "intersected_set = my_set & my_set2\n",
    "print(intersected_set)\n"
   ]
  },
  {
   "cell_type": "markdown",
   "metadata": {},
   "source": [
    "##### .difference()"
   ]
  },
  {
   "cell_type": "code",
   "execution_count": 96,
   "metadata": {},
   "outputs": [
    {
     "name": "stdout",
     "output_type": "stream",
     "text": [
      "{2}\n"
     ]
    }
   ],
   "source": [
    "# Returns a set containing all the elements of invoking set that are not in the second set, can also use '-'\n",
    "# only takes values from the first set that are not in the second set\n",
    "# order matters\n",
    "my_set = {6,2,3,4}\n",
    "my_set2 = {3,4,5,6}\n",
    "\n",
    "difference_set = my_set.difference(my_set2)\n",
    "difference_set = my_set - my_set2\n",
    "print(difference_set)\n",
    "                                   "
   ]
  },
  {
   "cell_type": "markdown",
   "metadata": {},
   "source": [
    "##### .clear()"
   ]
  },
  {
   "cell_type": "code",
   "execution_count": null,
   "metadata": {},
   "outputs": [],
   "source": [
    "# Empties the whole set\n",
    "# set.clear()\n",
    "my_set2.clear()\n",
    "print(my_set2)"
   ]
  },
  {
   "cell_type": "markdown",
   "metadata": {},
   "source": [
    "## Modules"
   ]
  },
  {
   "cell_type": "markdown",
   "metadata": {},
   "source": [
    "##### Importing Entire Modules"
   ]
  },
  {
   "cell_type": "code",
   "execution_count": 98,
   "metadata": {},
   "outputs": [
    {
     "name": "stdout",
     "output_type": "stream",
     "text": [
      "3.141592653589793\n",
      "9.0\n"
     ]
    }
   ],
   "source": [
    "# import\n",
    "import math\n",
    "\n",
    "print(math.pi)\n",
    "print(math.sqrt(81))"
   ]
  },
  {
   "cell_type": "markdown",
   "metadata": {},
   "source": [
    "##### Importing Methods Only"
   ]
  },
  {
   "cell_type": "code",
   "execution_count": 101,
   "metadata": {},
   "outputs": [
    {
     "name": "stdout",
     "output_type": "stream",
     "text": [
      "3.141592653589793\n",
      "3.0\n"
     ]
    }
   ],
   "source": [
    "# from 'xxx' import 'xxx'\n",
    "# from math import floor\n",
    "from math import pi, sqrt, floor\n",
    "\n",
    "print(pi)\n",
    "print(sqrt(9))\n"
   ]
  },
  {
   "cell_type": "markdown",
   "metadata": {},
   "source": [
    "##### Using the 'as' Keyword"
   ]
  },
  {
   "cell_type": "code",
   "execution_count": 102,
   "metadata": {},
   "outputs": [
    {
     "name": "stdout",
     "output_type": "stream",
     "text": [
      "3.141592653589793\n",
      "9.0\n"
     ]
    }
   ],
   "source": [
    "# from 'xxx' import 'xxx' as 'xxx' or import 'xxx' as 'xxx'\n",
    "# from math import floor as f\n",
    "from math import pi as pie, sqrt as square_root\n",
    "\n",
    "print(pie)\n",
    "print(square_root(81))"
   ]
  },
  {
   "cell_type": "markdown",
   "metadata": {},
   "source": [
    "##### Creating a Module"
   ]
  },
  {
   "cell_type": "code",
   "execution_count": 104,
   "metadata": {},
   "outputs": [
    {
     "name": "stdout",
     "output_type": "stream",
     "text": [
      "9\n"
     ]
    }
   ],
   "source": [
    "import my_module\n",
    "# import my_module import add_nums\n",
    "\n",
    "\n",
    "# from modules(that folder).my_module import add_nums         if you put the file in a folder\n",
    "\n",
    "print(my_module.add_nums(3, 6))\n",
    "# print(add_nums(3,10))"
   ]
  },
  {
   "cell_type": "markdown",
   "metadata": {},
   "source": [
    "# Exercises"
   ]
  },
  {
   "cell_type": "markdown",
   "metadata": {},
   "source": [
    "### 1) Build a Shopping Cart <br>\n",
    "<p><b>You can use either lists or dictionaries. The program should have the following capabilities:</b><br><br>\n",
    "1) Takes in input <br>\n",
    "2) Stores user input into a dictionary or list <br>\n",
    "3) The User can add or delete items <br>\n",
    "4) The User can see current shopping list <br>\n",
    "5) The program Loops until user 'quits' <br>\n",
    "6) Upon quiting the program, print out all items in the user's list <br>\n",
    "</p>"
   ]
  },
  {
   "cell_type": "code",
   "execution_count": 9,
   "metadata": {},
   "outputs": [
    {
     "name": "stdout",
     "output_type": "stream",
     "text": [
      "[]\n"
     ]
    }
   ],
   "source": [
    "# Ask the user four bits of input: Do you want to : Show/Add/Delete or Quit?\n",
    "\n",
    "# def shopping_cart():\n",
    "#     cart = {}\n",
    "#     while True:\n",
    "#         menu_option = input(\"What do you want to add to the list? Type 'show' to show the list, 'add' to add an item to the list, 'delete' to remove an item from the list or 'quit' to finish list): \").lower()\n",
    "#         if menu_option == 'quit':\n",
    "#             break\n",
    "#         if menu_option == 'show':\n",
    "#             print(cart)\n",
    "#         else:\n",
    "#             list_item = input(\"What other items do you need>\")\n",
    "#             if menu_option == 'add':\n",
    "#                 cart.append(list_item)\n",
    "#             if menu_option == 'delete':\n",
    "#                 cart.remove(list_item)\n",
    "#     print(cart)\n",
    "# shopping_cart()\n",
    "def shopping_cart():\n",
    "    cart_list = []\n",
    "    while True:\n",
    "        menu_option = input(\"[Your cart]: Enter 'add' to add an item,'show' to show the list, 'delete' to remove an item or 'quit' to finish list): \").lower()\n",
    "        if menu_option == 'quit':\n",
    "            break\n",
    "        if menu_option == 'show':\n",
    "            print(cart_list)\n",
    "        else:\n",
    "            list_item = input(\"What item would you like to modify?\")\n",
    "            if menu_option == 'add':\n",
    "                cart_list.append(list_item)\n",
    "            if menu_option == 'delete':\n",
    "                cart_list.remove(list_item)\n",
    "    print (cart_list)\n",
    "shopping_cart()\n",
    "\n",
    "        \n",
    "\n",
    "# empty list\n",
    "\n",
    "# ask for input\n",
    "\n",
    "# quit breaks Lookup and prints list\n",
    "\n",
    "# if show, print list\n",
    "\n",
    "# if add, add to list\n",
    "\n",
    "# if delete, remove from list"
   ]
  },
  {
   "cell_type": "markdown",
   "metadata": {},
   "source": [
    "### 2) Create a Module in VS Code and Import It into jupyter notebook <br>\n",
    "<p><b>Module should have the following capabilities:</b><br><br>\n",
    "1) Has a function to calculate the square footage of a house <br>\n",
    "    <b>Reminder of Formula: Length X Width == Area<br>\n",
    "        <hr>\n",
    "2) Has a function to calculate the circumference of a circle <br><br>\n",
    "<b>Program in Jupyter Notebook should take in user input and use imported functions to calculate a circle's circumference or a houses square footage</b>\n",
    "</p>"
   ]
  },
  {
   "cell_type": "code",
   "execution_count": 12,
   "metadata": {},
   "outputs": [
    {
     "name": "stdout",
     "output_type": "stream",
     "text": [
      "Your house is 308 square feet\n",
      "308\n",
      "The circumference is 62 cubed units\n"
     ]
    }
   ],
   "source": [
    "# Question 1.\n",
    "\n",
    "import my_module\n",
    "\n",
    "print('Your house is',my_module.sqft_of_house(14,22),'square feet')\n",
    "\n",
    "print(my_module.sqft_of_house(14,22))\n",
    "\n",
    "\n",
    "\n",
    "# Question 2.\n",
    "import my_module2\n",
    "import math\n",
    "\n",
    "print('The circumference is', math.floor(my_module2.circum_of_house(10)),'cubed units')"
   ]
  }
 ],
 "metadata": {
  "kernelspec": {
   "display_name": "Python 3",
   "language": "python",
   "name": "python3"
  },
  "language_info": {
   "codemirror_mode": {
    "name": "ipython",
    "version": 3
   },
   "file_extension": ".py",
   "mimetype": "text/x-python",
   "name": "python",
   "nbconvert_exporter": "python",
   "pygments_lexer": "ipython3",
   "version": "3.11.4"
  },
  "vscode": {
   "interpreter": {
    "hash": "aa82987a71ca0339a52998cd22613b0c002bda8349fa32a0cb67ceec3936a2bf"
   }
  }
 },
 "nbformat": 4,
 "nbformat_minor": 2
}
